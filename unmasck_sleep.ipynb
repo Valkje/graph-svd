{
 "cells": [
  {
   "cell_type": "code",
   "execution_count": 1,
   "id": "e6b3e7d4-5417-47f9-8d69-f64465634967",
   "metadata": {},
   "outputs": [
    {
     "name": "stderr",
     "output_type": "stream",
     "text": [
      "/home/preclineu/lorkno/Documents/Code/graph-svd/graphRegularizedSVD_sleepWakeMatrices.py:29: TqdmExperimentalWarning: Using `tqdm.autonotebook.tqdm` in notebook mode. Use `tqdm.tqdm` instead to force console mode (e.g. in jupyter console)\n",
      "  from tqdm.autonotebook import tqdm\n"
     ]
    }
   ],
   "source": [
    "%load_ext autoreload\n",
    "%autoreload complete\n",
    "\n",
    "%matplotlib inline\n",
    "\n",
    "import function_sleepWakeLabels as sleep\n",
    "import graphRegularizedSVD_sleepWakeMatrices as gsvd\n",
    "import pandas as pd\n",
    "import numpy as np\n",
    "from scipy.stats import pearsonr\n",
    "import glob\n",
    "import re\n",
    "import warnings\n",
    "from os.path import join\n",
    "from pathlib import Path\n",
    "from datetime import date, datetime, timedelta\n",
    "import matplotlib as mpl\n",
    "import matplotlib.pyplot as plt\n",
    "from matplotlib.gridspec import GridSpec\n",
    "from matplotlib.axes import Axes\n",
    "from matplotlib.colors import ListedColormap\n",
    "import seaborn as sns\n",
    "from dotenv import dotenv_values\n",
    "import itertools\n",
    "import pickle\n",
    "from tqdm.notebook import tqdm\n",
    "import pyarrow.parquet as pq\n",
    "\n",
    "sns.set_theme(style=\"darkgrid\")\n",
    "\n",
    "cfg = dotenv_values()\n",
    "\n",
    "dat_dir = cfg['DAT_DIR']"
   ]
  },
  {
   "cell_type": "code",
   "execution_count": null,
   "id": "642247a1-2021-43ca-9333-fa9eeb131327",
   "metadata": {},
   "outputs": [],
   "source": [
    "dat_kp: pd.DataFrame = pq.read_table(join(dat_dir, 'UnMASCK', 'dat_kp_phone.parquet')).to_pandas()\n",
    "\n",
    "# Copy to prevent SettingWithCopyWarning\n",
    "dat_kp = dat_kp.loc[dat_kp['phoneBrand'] == 'iPhone'].copy()\n",
    "\n",
    "# dat_kp"
   ]
  },
  {
   "cell_type": "code",
   "execution_count": 6,
   "id": "60925f9d-1e50-4918-b005-6105f4f6b0e9",
   "metadata": {},
   "outputs": [],
   "source": [
    "# Retain the original timestamp column for sanity checks later on\n",
    "og_keypressTimestampLocal = pd.to_datetime(dat_kp['keypressTimestampLocal'])\n",
    "\n",
    "dat_kp['keypressTimestampLocal'] = og_keypressTimestampLocal + timedelta(hours = 12)\n",
    "\n",
    "# Pandas has trouble computing the min of a date, so convert back to datetime\n",
    "dat_kp['date'] = pd.to_datetime(dat_kp['keypressTimestampLocal'].dt.date)\n",
    "dat_kp['hour'] = dat_kp['keypressTimestampLocal'].dt.hour"
   ]
  },
  {
   "cell_type": "code",
   "execution_count": null,
   "id": "0d07bb2e-4251-4c10-a8b5-07240d6ec6b9",
   "metadata": {},
   "outputs": [],
   "source": [
    "dat_ses: pd.DataFrame = pq.read_table(join(dat_dir, 'UnMASCK', 'dat_ses_phone.parquet')).to_pandas()\n",
    "\n",
    "# Copy to prevent SettingWithCopyWarning\n",
    "dat_ses = dat_ses.loc[dat_ses['phoneBrand'] == 'iPhone'].copy()\n",
    "\n",
    "# dat_ses"
   ]
  },
  {
   "cell_type": "code",
   "execution_count": 9,
   "id": "64e5cf74-4e52-44f6-b068-027effeb494e",
   "metadata": {},
   "outputs": [],
   "source": [
    "dat_ses['sessionTimestampLocal'] = dat_ses['sessionTimestampLocal'] + timedelta(hours=12)\n",
    "\n",
    "dat_ses['date'] = pd.to_datetime(dat_ses['sessionTimestampLocal'].dt.date)\n",
    "dat_ses['hour'] = dat_ses['sessionTimestampLocal'].dt.hour"
   ]
  },
  {
   "cell_type": "code",
   "execution_count": 10,
   "id": "560f0992-6e49-4d9f-b3c4-9b8b388285d5",
   "metadata": {},
   "outputs": [],
   "source": [
    "typing_matrices, dates = gsvd.get_typing_matrices(dat_kp, dat_ses)"
   ]
  },
  {
   "cell_type": "markdown",
   "id": "c6ea2c48-9001-44cb-9dc8-3025b529c18f",
   "metadata": {},
   "source": [
    "# Save to / load from file"
   ]
  },
  {
   "cell_type": "code",
   "execution_count": 11,
   "id": "d78f211c-a015-47ca-bb0c-4b412cb4f70d",
   "metadata": {},
   "outputs": [],
   "source": [
    "typing_mat_dict = {\n",
    "    \"typing_matrices\": typing_matrices,\n",
    "    \"dates\": dates\n",
    "}\n",
    "\n",
    "with open(join(dat_dir, 'UnMASCK', 'typing_mat_dict_2024-11-18.pkl'), 'wb') as f:\n",
    "    pickle.dump(typing_mat_dict, f)"
   ]
  },
  {
   "cell_type": "code",
   "execution_count": 12,
   "id": "fc7cb911-74d2-42b8-a9c6-bc5fda7525fe",
   "metadata": {},
   "outputs": [],
   "source": [
    "with open(join(dat_dir, 'UnMASCK', 'typing_mat_dict_2024-11-18.pkl'), 'rb') as f:\n",
    "    typing_mat_dict = pickle.load(f)\n",
    "\n",
    "typing_matrices: dict[str, dict[str, pd.DataFrame]] = typing_mat_dict[\"typing_matrices\"]\n",
    "dates: pd.DataFrame = typing_mat_dict[\"dates\"]"
   ]
  },
  {
   "cell_type": "markdown",
   "id": "7b6fd04a-3370-48b5-81dc-e6d432ba66e0",
   "metadata": {},
   "source": [
    "# Calculate GSVDs"
   ]
  },
  {
   "cell_type": "code",
   "execution_count": 13,
   "id": "402c1dda-c46b-4539-8dfc-01bd0549307f",
   "metadata": {},
   "outputs": [],
   "source": [
    "alpha = 1"
   ]
  },
  {
   "cell_type": "code",
   "execution_count": 14,
   "id": "120897c2-735b-4356-a9e0-9deffa85b075",
   "metadata": {},
   "outputs": [
    {
     "data": {
      "application/vnd.jupyter.widget-view+json": {
       "model_id": "4c9653e98dbb45edbfaf59cff38ab88f",
       "version_major": 2,
       "version_minor": 0
      },
      "text/plain": [
       "  0%|          | 0/89 [00:00<?, ?it/s]"
      ]
     },
     "metadata": {},
     "output_type": "display_data"
    },
    {
     "name": "stderr",
     "output_type": "stream",
     "text": [
      "/home/preclineu/lorkno/Documents/Code/graph-svd/graphRegularizedSVD_sleepWakeMatrices.py:812: UserWarning: No data in training set for participant 19\n",
      "  warnings.warn(f\"No data in training set for participant {subject}\")\n",
      "/home/preclineu/lorkno/Documents/Code/graph-svd/graphRegularizedSVD_sleepWakeMatrices.py:812: UserWarning: No data in training set for participant 97\n",
      "  warnings.warn(f\"No data in training set for participant {subject}\")\n"
     ]
    }
   ],
   "source": [
    "svd_mats, split_indices = gsvd.calculate_svd(\n",
    "    typing_matrices, alpha=alpha, train_ratio=0.1)"
   ]
  },
  {
   "cell_type": "code",
   "execution_count": 15,
   "id": "73374842-3fa6-4ebc-9ad2-b2c029e885e5",
   "metadata": {},
   "outputs": [],
   "source": [
    "# Saving\n",
    "with open(join(dat_dir, 'UnMASCK', f\"svd_mats_alpha{alpha}_2024-11-18.pkl\"), 'wb') as f:\n",
    "    pickle.dump(svd_mats, f)"
   ]
  },
  {
   "cell_type": "code",
   "execution_count": 17,
   "id": "a9a69fac-d5ed-4b60-aa79-abb916b01055",
   "metadata": {},
   "outputs": [],
   "source": [
    "# Loading\n",
    "with open(join(dat_dir, 'UnMASCK', f\"svd_mats_alpha{alpha}_2024-11-18.pkl\"), 'rb') as f:\n",
    "    svd_mats: dict[str, dict[str, np.ndarray]] = pickle.load(f)"
   ]
  },
  {
   "cell_type": "code",
   "execution_count": 20,
   "id": "6d2e989c-6f38-4771-970c-7baeb690bc50",
   "metadata": {},
   "outputs": [
    {
     "data": {
      "application/vnd.jupyter.widget-view+json": {
       "model_id": "0dda41d667c74a6fb489b024b52c7695",
       "version_major": 2,
       "version_minor": 0
      },
      "text/plain": [
       "  0%|          | 0/89 [00:00<?, ?it/s]"
      ]
     },
     "metadata": {},
     "output_type": "display_data"
    },
    {
     "name": "stderr",
     "output_type": "stream",
     "text": [
      "/scratch/lorkno/slurm_job_46607377/ipykernel_3613332/3577799945.py:23: UserWarning: Participant 19 has no SVD matrix, skipping\n",
      "  warnings.warn(f\"Participant {participant} has no SVD matrix, skipping\")\n",
      "/scratch/lorkno/slurm_job_46607377/ipykernel_3613332/3577799945.py:23: UserWarning: Participant 97 has no SVD matrix, skipping\n",
      "  warnings.warn(f\"Participant {participant} has no SVD matrix, skipping\")\n"
     ]
    }
   ],
   "source": [
    "def plot_mat(df: pd.DataFrame, a: Axes, cbar_label: str, title: str):\n",
    "    sns.heatmap(df, cmap='viridis', ax=a, vmin=0, #vmax=500,\n",
    "                cbar_kws={'label': cbar_label, 'fraction': 0.043})\n",
    "    plt.xticks(rotation=90)\n",
    "    plt.yticks(rotation=0)\n",
    "    a.set(title=title, xlabel='Hour', ylabel='Day')\n",
    "\n",
    "def plot_mats(\n",
    "        svd_mats: dict[str, np.ndarray], \n",
    "        typing_matrices: dict[str, dict[str, pd.DataFrame]], \n",
    "        participant: str,\n",
    "        save: bool = False\n",
    "    ):\n",
    "\n",
    "    part_mats = typing_matrices[participant]\n",
    "    \n",
    "    n_presses_df = part_mats['n_presses']\n",
    "    ikd_df = part_mats['IKD']\n",
    "    active_df = part_mats['active']\n",
    "    upright_df = part_mats['upright']\n",
    "\n",
    "    if participant not in svd_mats:\n",
    "        warnings.warn(f\"Participant {participant} has no SVD matrix, skipping\")\n",
    "        return\n",
    "\n",
    "    split_idx = None\n",
    "    svd_mat = svd_mats[participant]\n",
    "    if 'train' in svd_mat:\n",
    "        # At which day to draw the split lines\n",
    "        split_idx = svd_mat['train'].shape[0]\n",
    "        \n",
    "        svd_mat = np.vstack((\n",
    "            svd_mat['train'],\n",
    "            svd_mat['test']\n",
    "        ))\n",
    "        \n",
    "    svd_mat_df = pd.DataFrame(svd_mat, \n",
    "                              index=ikd_df.index, \n",
    "                              columns=ikd_df.columns)\n",
    "\n",
    "    plt.rcParams.update({'font.size': 64})\n",
    "    # Visualize heatmap of steps\n",
    "    fig, ax = plt.subplots(nrows=3,ncols=2, sharex=False, sharey=False,\n",
    "                           figsize=(20,25), facecolor='w')\n",
    "\n",
    "    # PLOT 1\n",
    "    plot_mat(np.log1p(n_presses_df), ax[0, 0], \n",
    "             cbar_label='log(1 + #Keypresses)', title='Input typing activity')\n",
    "\n",
    "    # PLOT 2\n",
    "    plot_mat(ikd_df, ax[0, 1], \n",
    "             cbar_label='Median IKD (s)', title='Input typing speed')\n",
    "\n",
    "    # PLOT 3\n",
    "    plot_mat(upright_df, ax[1, 0], \n",
    "             cbar_label='Movement rate', title='Input movement rate')\n",
    "\n",
    "    # PLOT 4\n",
    "    plot_mat(active_df, ax[1, 1], \n",
    "             cbar_label='Upright rate', title='Input upright rate')\n",
    "\n",
    "    # PLOT 5\n",
    "    a = ax[2, 0]\n",
    "    plot_mat(svd_mat_df, a, \n",
    "             cbar_label='Value', title='Graph-regularised SVD')\n",
    "    \n",
    "    if split_idx is not None:\n",
    "        sns.lineplot(x=np.arange(0, 25), y=[split_idx]*25, color='orange', ax=a)\n",
    "\n",
    "    fig.tight_layout()\n",
    "\n",
    "    if save:\n",
    "        fig.savefig(join('images', 'UnMASCK', f\"all_mats_train_test_{participant}_alpha{alpha}_2024-11-18.pdf\"))\n",
    "\n",
    "mpl.use('Agg')\n",
    "\n",
    "for participant in tqdm(typing_matrices):\n",
    "    plt.close()\n",
    "\n",
    "    plot_mats(svd_mats, typing_matrices, participant, save=True)\n",
    "\n",
    "mpl.use('module://matplotlib_inline.backend_inline')"
   ]
  },
  {
   "cell_type": "code",
   "execution_count": null,
   "id": "94177b49-dbae-49e9-b344-74859184d316",
   "metadata": {
    "scrolled": true
   },
   "outputs": [],
   "source": [
    "# These plots are not as pretty as the CLEAR-3 ones\n",
    "for participant in svd_mats:\n",
    "    plt.close()\n",
    "    sns.histplot(svd_mats[participant]['test'].flatten())\n",
    "    plt.title(participant)\n",
    "    plt.show()"
   ]
  },
  {
   "cell_type": "markdown",
   "id": "eb1efee0-33e9-4be1-859c-6784e680b421",
   "metadata": {},
   "source": [
    "# Create hour estimates"
   ]
  },
  {
   "cell_type": "code",
   "execution_count": null,
   "id": "49e39f64-12bf-450f-86a0-669ab3d96b86",
   "metadata": {},
   "outputs": [],
   "source": [
    "activity_scores = dict()\n",
    "\n",
    "for participant, mats in svd_mats.items():\n",
    "    # Construct train-test labels\n",
    "    n_train = mats['train'].shape[0]\n",
    "    n_test = mats['test'].shape[0]\n",
    "    labels = ['train'] * n_train + ['test'] * n_test\n",
    "\n",
    "    # Fuse train and test data\n",
    "    svd_mat = np.vstack((mats['train'], mats['test']))\n",
    "\n",
    "    # Convert to DataFrame\n",
    "    ikd_index = typing_matrices[participant]['IKD'].index\n",
    "    svd_df = pd.DataFrame(svd_mat, index=ikd_index)\n",
    "\n",
    "    # Sum over the rows, add train-test labels\n",
    "    scores = svd_df.sum(axis=1).to_frame(name='activity')\n",
    "    scores['label'] = labels\n",
    "\n",
    "    # Binarize data, add to scores DataFrame\n",
    "    binary_df = svd_df > 1 # np.mean(svd_mat)\n",
    "    hour_estimates = 24 - binary_df.sum(axis=1)\n",
    "    scores['hour_estimate'] = hour_estimates\n",
    "\n",
    "    # Add some measures of data quantity\n",
    "    n_presses_mat = typing_matrices[participant]['n_presses']\n",
    "    \n",
    "    scores['n_total_presses'] = n_presses_mat.sum(axis=1)\n",
    "    scores['n_active_hours'] = (n_presses_mat > 0).sum(axis=1)\n",
    "\n",
    "    # plt.close()\n",
    "    # sns.heatmap(binary_df)\n",
    "    # plt.show()\n",
    "\n",
    "    activity_scores[participant] = scores\n",
    "\n",
    "activity_scores = pd.concat(activity_scores, names=['subject'])\n",
    "\n",
    "# activity_scores"
   ]
  },
  {
   "cell_type": "code",
   "execution_count": 23,
   "id": "3e95f028-c0d5-449d-8f0c-b83eaedac872",
   "metadata": {},
   "outputs": [
    {
     "data": {
      "image/png": "[encoded data removed]",
      "text/plain": [
       "<Figure size 640x480 with 1 Axes>"
      ]
     },
     "metadata": {},
     "output_type": "display_data"
    }
   ],
   "source": [
    "sns.histplot(activity_scores, x='hour_estimate')\n",
    "plt.show()"
   ]
  },
  {
   "cell_type": "code",
   "execution_count": null,
   "id": "0b7fe663-8bfd-477a-8a3d-7c8417383c95",
   "metadata": {},
   "outputs": [],
   "source": [
    "dates['date'] = pd.to_datetime(dates['date'])\n",
    "\n",
    "date_df = dates.set_index(['subject', 'dayNumber']) \\\n",
    "    .join(activity_scores) \\\n",
    "    .reset_index()\n",
    "\n",
    "date_df['date'] = date_df['date'].dt.date\n",
    "\n",
    "# date_df"
   ]
  },
  {
   "cell_type": "code",
   "execution_count": 34,
   "id": "0beafc2a-a350-4a5a-b73b-d375ae950b91",
   "metadata": {},
   "outputs": [],
   "source": [
    "# No objective sleep data to couple to, so just save to file\n",
    "date_df.to_parquet(join(dat_dir, 'UnMASCK', f\"spleep_pred_10_90_alpha{alpha}_2024-11-18.parquet\"))"
   ]
  },
  {
   "cell_type": "code",
   "execution_count": null,
   "id": "13d0fba8-30d0-42af-9917-72b9c59acd38",
   "metadata": {},
   "outputs": [],
   "source": []
  }
 ],
 "metadata": {
  "kernelspec": {
   "display_name": "Python 3 (ipykernel)",
   "language": "python",
   "name": "python3"
  },
  "language_info": {
   "codemirror_mode": {
    "name": "ipython",
    "version": 3
   },
   "file_extension": ".py",
   "mimetype": "text/x-python",
   "name": "python",
   "nbconvert_exporter": "python",
   "pygments_lexer": "ipython3",
   "version": "3.11.4"
  }
 },
 "nbformat": 4,
 "nbformat_minor": 5
}
